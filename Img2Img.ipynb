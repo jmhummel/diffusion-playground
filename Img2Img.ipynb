{
 "cells": [
  {
   "metadata": {},
   "cell_type": "markdown",
   "source": "# Notebook 1: Enhancing Images with Stable Diffusion Img2Img Pipeline\n",
   "id": "aef466617ccbd008"
  },
  {
   "metadata": {},
   "cell_type": "markdown",
   "source": "### 1. Install Required Libraries",
   "id": "975161cdc64cee5d"
  },
  {
   "metadata": {},
   "cell_type": "code",
   "source": [
    "# Run this cell to install necessary packages\n",
    "!pip install --upgrade diffusers transformers torch torchvision ipywidgets\n",
    "!pip install opencv-python matplotlib"
   ],
   "id": "e699183686c5d9cd",
   "outputs": [],
   "execution_count": null
  },
  {
   "metadata": {},
   "cell_type": "markdown",
   "source": "#### 3.1 Optional: Install `accelerate` for faster and less memory-intense model loading.",
   "id": "79ed7bccef3bf8eb"
  },
  {
   "metadata": {},
   "cell_type": "code",
   "source": "!pip install accelerate",
   "id": "5f9a58001b2258d8",
   "outputs": [],
   "execution_count": null
  },
  {
   "metadata": {},
   "cell_type": "markdown",
   "source": "### 2. Import Libraries",
   "id": "a67072128974ec83"
  },
  {
   "cell_type": "code",
   "id": "initial_id",
   "metadata": {
    "collapsed": true
   },
   "source": [
    "import torch\n",
    "from diffusers import StableDiffusionImg2ImgPipeline, UniPCMultistepScheduler\n",
    "from PIL import Image\n",
    "import matplotlib.pyplot as plt"
   ],
   "outputs": [],
   "execution_count": null
  },
  {
   "metadata": {},
   "cell_type": "code",
   "source": "### 3. Load Models",
   "id": "538c5b0a28c795e4",
   "outputs": [],
   "execution_count": null
  },
  {
   "metadata": {},
   "cell_type": "code",
   "source": [
    "# Load the Stable Diffusion img2img pipeline\n",
    "pipe = StableDiffusionImg2ImgPipeline.from_pretrained(\n",
    "    \"runwayml/stable-diffusion-v1-5\",\n",
    "    torch_dtype=torch.float16\n",
    ")"
   ],
   "id": "fedf2a50b2f957e3",
   "outputs": [],
   "execution_count": null
  },
  {
   "metadata": {},
   "cell_type": "code",
   "source": [
    "# Enable GPU acceleration\n",
    "device = \"cuda\" if torch.cuda.is_available() else \"cpu\"\n",
    "pipe.to(device)"
   ],
   "id": "6aa3b8fb6c034a5a",
   "outputs": [],
   "execution_count": null
  },
  {
   "metadata": {},
   "cell_type": "code",
   "source": [
    "# Use an efficient scheduler\n",
    "pipe.scheduler = UniPCMultistepScheduler.from_config(pipe.scheduler.config)"
   ],
   "id": "55ed9e9f5c4cbf76",
   "outputs": [],
   "execution_count": null
  },
  {
   "metadata": {},
   "cell_type": "markdown",
   "source": "### 4. Prepare Input Image",
   "id": "8ec45b1d57f4a8c"
  },
  {
   "metadata": {},
   "cell_type": "code",
   "source": [
    "# Load the input image\n",
    "input_image = Image.open(\"test-images/20240929_102048-EDIT.jpg\").convert(\"RGB\")\n",
    "input_image = input_image.resize((512, 512))\n",
    "\n",
    "plt.imshow(input_image)\n",
    "plt.axis('off')  # Hide the axes\n",
    "plt.show()"
   ],
   "id": "1c8a0e1e79c72ced",
   "outputs": [],
   "execution_count": null
  },
  {
   "metadata": {},
   "cell_type": "markdown",
   "source": "### 5. Define Parameters",
   "id": "403fb7baa240751a"
  },
  {
   "metadata": {},
   "cell_type": "code",
   "source": [
    "# Set the denoising strength (lower value = closer to input, higher value = more artistic freedom)\n",
    "denoising_strength = 0.5\n",
    "\n",
    "# Set the number of sampling steps\n",
    "num_inference_steps = 50\n",
    "\n",
    "prompt = \"\"\n",
    "negative_prompt = \"low quality, blurry, deformed, bad anatomy\"\n",
    "guidance_scale = 7.5"
   ],
   "id": "6db4111aea3f12cc",
   "outputs": [],
   "execution_count": null
  },
  {
   "metadata": {},
   "cell_type": "markdown",
   "source": "### 6. Generate the Enhanced Image",
   "id": "29994564736743c3"
  },
  {
   "metadata": {},
   "cell_type": "code",
   "source": [
    "# Generate the enhanced image\n",
    "with torch.autocast(device):\n",
    "    output = pipe(\n",
    "        prompt=prompt,\n",
    "        negative_prompt=negative_prompt,\n",
    "        num_inference_steps=num_inference_steps,\n",
    "        guidance_scale=guidance_scale,\n",
    "        init_image=input_image,\n",
    "        strength=denoising_strength,\n",
    "    )\n",
    "\n",
    "enhanced_image = output.images[0]"
   ],
   "id": "383cc62b84e2a341",
   "outputs": [],
   "execution_count": null
  },
  {
   "metadata": {},
   "cell_type": "markdown",
   "source": "### 7. Display and Save the Results",
   "id": "d5fc58970f4a3e7b"
  },
  {
   "metadata": {},
   "cell_type": "code",
   "source": [
    "# Save the enhanced image\n",
    "enhanced_image.save(\"output-images/enhanced_img2img.jpg\")"
   ],
   "id": "d2e9252eb94bc99b",
   "outputs": [],
   "execution_count": null
  },
  {
   "metadata": {},
   "cell_type": "code",
   "source": [
    "# Display the original and enhanced images\n",
    "fig, ax = plt.subplots(1, 2, figsize=(12, 6))\n",
    "\n",
    "ax[0].imshow(input_image)\n",
    "ax[0].set_title(\"Original Image\")\n",
    "ax[0].axis(\"off\")\n",
    "\n",
    "ax[1].imshow(enhanced_image)\n",
    "ax[1].set_title(\"Enhanced Image\")\n",
    "ax[1].axis(\"off\")\n",
    "\n",
    "plt.show()"
   ],
   "id": "f96cdfb7929b70",
   "outputs": [],
   "execution_count": null
  },
  {
   "metadata": {},
   "cell_type": "markdown",
   "source": [
    "### 8. Style Transfer\n",
    "By using a higher denoising strength in conjunction with a prompt, you can create a style transfer effect."
   ],
   "id": "a06b9f60810b5999"
  },
  {
   "metadata": {},
   "cell_type": "code",
   "outputs": [],
   "execution_count": null,
   "source": [
    "# Define the style transfer prompt\n",
    "prompt = \"A painting in the style of Vincent van Gogh\"\n",
    "\n",
    "# Set the denoising strength (controls the level of transformation)\n",
    "denoising_strength = 0.8  # Higher value for more stylistic changes"
   ],
   "id": "d4f08a952a22b23d"
  },
  {
   "metadata": {},
   "cell_type": "code",
   "outputs": [],
   "execution_count": null,
   "source": [
    "# Generate the style-transferred image\n",
    "with torch.autocast(device):\n",
    "    output = pipe(\n",
    "        prompt=prompt,\n",
    "        negative_prompt=negative_prompt,\n",
    "        num_inference_steps=num_inference_steps,\n",
    "        guidance_scale=guidance_scale,\n",
    "        init_image=input_image,\n",
    "        strength=denoising_strength,\n",
    "    )\n",
    "\n",
    "styled_image = output.images[0]"
   ],
   "id": "12e6c2b0c312e4b"
  },
  {
   "metadata": {},
   "cell_type": "markdown",
   "source": "### 9. Display and Save the Style-Transferred Image",
   "id": "1f3ca71eef45ca55"
  },
  {
   "metadata": {},
   "cell_type": "code",
   "outputs": [],
   "execution_count": null,
   "source": [
    "# Save the style-transferred image\n",
    "styled_image.save(\"output-images/styled_img2img.jpg\")"
   ],
   "id": "d67012b39b1d5f88"
  },
  {
   "metadata": {},
   "cell_type": "code",
   "outputs": [],
   "execution_count": null,
   "source": [
    "# Display the original and styled images\n",
    "fig, ax = plt.subplots(1, 2, figsize=(12, 6))\n",
    "\n",
    "ax[0].imshow(input_image)\n",
    "ax[0].set_title(\"Original Image\")\n",
    "ax[0].axis(\"off\")\n",
    "\n",
    "ax[1].imshow(styled_image)\n",
    "ax[1].set_title(\"Styled Image\")\n",
    "ax[1].axis(\"off\")\n",
    "\n",
    "plt.show()"
   ],
   "id": "9df60991e60aeedb"
  }
 ],
 "metadata": {
  "kernelspec": {
   "display_name": "Python 3",
   "language": "python",
   "name": "python3"
  },
  "language_info": {
   "codemirror_mode": {
    "name": "ipython",
    "version": 2
   },
   "file_extension": ".py",
   "mimetype": "text/x-python",
   "name": "python",
   "nbconvert_exporter": "python",
   "pygments_lexer": "ipython2",
   "version": "2.7.6"
  }
 },
 "nbformat": 4,
 "nbformat_minor": 5
}
